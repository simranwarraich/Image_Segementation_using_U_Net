{
  "nbformat": 4,
  "nbformat_minor": 0,
  "metadata": {
    "colab": {
      "provenance": [],
      "authorship_tag": "ABX9TyPyJr2SIUHBsy60VkJK2Zc1",
      "include_colab_link": true
    },
    "kernelspec": {
      "name": "python3",
      "display_name": "Python 3"
    },
    "language_info": {
      "name": "python"
    }
  },
  "cells": [
    {
      "cell_type": "markdown",
      "metadata": {
        "id": "view-in-github",
        "colab_type": "text"
      },
      "source": [
        "<a href=\"https://colab.research.google.com/github/simranwarraich/image-segementation-using-UNet/blob/main/Image_Segementation_using_U_Net.ipynb\" target=\"_parent\"><img src=\"https://colab.research.google.com/assets/colab-badge.svg\" alt=\"Open In Colab\"/></a>"
      ]
    },
    {
      "cell_type": "markdown",
      "source": [
        "# Setting up the environment"
      ],
      "metadata": {
        "id": "ujF1CEYSkrrF"
      }
    },
    {
      "cell_type": "code",
      "source": [
        "!pip install git+https://github.com/tensorflow/examples.git # Install the required package from GitHub"
      ],
      "metadata": {
        "id": "_ze4AUH1ka-e"
      },
      "execution_count": null,
      "outputs": []
    },
    {
      "cell_type": "code",
      "execution_count": null,
      "metadata": {
        "id": "VpJ3SRv3i4VF"
      },
      "outputs": [],
      "source": [
        "# Import necessary libraries\n",
        "import numpy as np\n",
        "import tensorflow as tf\n",
        "import tensorflow_datasets as tfds"
      ]
    },
    {
      "cell_type": "code",
      "source": [
        "from tensorflow_examples.models.pix2pix import pix2pix # Import the U-Net model from the TensorFlow Examples repository\n",
        "import matplotlib.pyplot as plt"
      ],
      "metadata": {
        "id": "iPj8xeFZjwbC"
      },
      "execution_count": null,
      "outputs": []
    },
    {
      "cell_type": "markdown",
      "source": [
        "Download the dataset  "
      ],
      "metadata": {
        "id": "fzAKBFuokyRd"
      }
    },
    {
      "cell_type": "code",
      "source": [
        "dataset, info = tfds.load('oxford_iiit_pet:3.*.*', with_info = True) # Load the Oxford-IIIT Pet dataset"
      ],
      "metadata": {
        "id": "4xv8u95KkEQ7"
      },
      "execution_count": null,
      "outputs": []
    },
    {
      "cell_type": "code",
      "source": [
        "print(dataset.keys()) # Print the available keys in the dataset\n",
        "print(info.features.keys())  # Print the features available in the dataset\n",
        "for split, details in info.splits.items(): # Print the number of examples in each split\n",
        "  print(\"-\", split, \":\", details.num_examples)"
      ],
      "metadata": {
        "colab": {
          "base_uri": "https://localhost:8080/"
        },
        "id": "G0adMaWTlZOg",
        "outputId": "c7f85300-3153-4faa-84e9-16da23f8173f"
      },
      "execution_count": null,
      "outputs": [
        {
          "output_type": "stream",
          "name": "stdout",
          "text": [
            "dict_keys(['train', 'test'])\n",
            "dict_keys(['image', 'label', 'species', 'file_name', 'segmentation_mask'])\n",
            "- train : 3680\n",
            "- test : 3669\n"
          ]
        }
      ]
    },
    {
      "cell_type": "markdown",
      "source": [
        "# Preprocessing the dataset"
      ],
      "metadata": {
        "id": "-Th43V2-lM-3"
      }
    },
    {
      "cell_type": "code",
      "source": [
        "# Normalize the input image and mask\n",
        "def normalize(input_image, input_mask):\n",
        "  input_image = tf.cast(input_image, tf.float32) / 255.0\n",
        "  input_mask -= 1\n",
        "  return input_image, input_mask"
      ],
      "metadata": {
        "id": "3M1K_zsA2MZ_"
      },
      "execution_count": null,
      "outputs": []
    },
    {
      "cell_type": "code",
      "source": [
        "# Load and preprocess the image and mask\n",
        "def load_image(datapoint):\n",
        "  input_image = tf.image.resize(datapoint['image'],(128,128))\n",
        "  input_mask = tf.image.resize(datapoint['segmentation_mask'], (128,128), method = tf.image.ResizeMethod.NEAREST_NEIGHBOR)\n",
        "\n",
        "  input_image, input_mask = normalize(input_image, input_mask)\n",
        "\n",
        "  return input_image, input_mask"
      ],
      "metadata": {
        "id": "kBshOO4_wMve"
      },
      "execution_count": null,
      "outputs": []
    },
    {
      "cell_type": "code",
      "source": [
        "# Preprocess the train and test datasets\n",
        "train_images = dataset['train'].map(load_image, num_parallel_calls = tf.data.AUTOTUNE)\n",
        "test_images = dataset['test'].map(load_image, num_parallel_calls = tf.data.AUTOTUNE)"
      ],
      "metadata": {
        "id": "b4pOLSvXlHZY"
      },
      "execution_count": null,
      "outputs": []
    },
    {
      "cell_type": "markdown",
      "source": [
        "# Building the pipeline"
      ],
      "metadata": {
        "id": "2tYxc8fB63DG"
      }
    },
    {
      "cell_type": "code",
      "source": [
        "# Custom data augmentation layer\n",
        "class Augment(tf.keras.layers.Layer):\n",
        "  def __init__(self, seed = 42):\n",
        "    super().__init__()\n",
        "    self.augment_inputs = tf.keras.layers.RandomFlip(mode = 'horizontal', seed = seed)\n",
        "    self.augment_labels = tf.keras.layers.RandomFlip(mode = 'horizontal', seed = seed)\n",
        "\n",
        "  def call(self, inputs, labels):\n",
        "    inputs = self.augment_inputs(inputs)\n",
        "    labels = self.augment_labels(labels)\n",
        "    return inputs, labels"
      ],
      "metadata": {
        "id": "VAH3ZwxA4rK7"
      },
      "execution_count": null,
      "outputs": []
    },
    {
      "cell_type": "code",
      "source": [
        "# Constants for the pipeline\n",
        "BUFFER_SIZE = 1000\n",
        "BATCH_SIZE = 64"
      ],
      "metadata": {
        "id": "WVhVALqD7snv"
      },
      "execution_count": null,
      "outputs": []
    },
    {
      "cell_type": "code",
      "source": [
        "# Create the train and test batches\n",
        "train_batches = (\n",
        "    train_images\n",
        "    .cache()\n",
        "    .shuffle(BUFFER_SIZE)\n",
        "    .batch(BATCH_SIZE)\n",
        "    .repeat()\n",
        "    .map(Augment())\n",
        "    .prefetch(buffer_size = tf.data.AUTOTUNE)\n",
        ")\n",
        "\n",
        "test_batches = test_images.batch(BATCH_SIZE)"
      ],
      "metadata": {
        "id": "zW_MNsGM58_W"
      },
      "execution_count": null,
      "outputs": []
    },
    {
      "cell_type": "code",
      "source": [
        "# Utility function to display images and masks\n",
        "def display(display_list):\n",
        "  plt.figure(figsize = (15,15))\n",
        "\n",
        "  title = ['Input Image', 'True Mask', 'Predicted Mask']\n",
        "\n",
        "  for i in range(len(display_list)):\n",
        "    plt.subplot(1, len(display_list), i+1)\n",
        "    plt.title(title[i])\n",
        "    plt.imshow(tf.keras.utils.array_to_img(display_list[i]))\n",
        "    plt.axis('off')\n",
        "  plt.show()"
      ],
      "metadata": {
        "id": "JqBtOR9ZB-9K"
      },
      "execution_count": null,
      "outputs": []
    },
    {
      "cell_type": "code",
      "source": [
        "# Display a sample image and mask from the train batches\n",
        "for images, masks in train_batches.take(2):\n",
        "  sample_image, sample_mask = images[0], masks[0]\n",
        "  print(images.shape, masks.shape)\n",
        "  print(images.shape[0], masks.shape[0])\n",
        "  display([sample_image, sample_mask])"
      ],
      "metadata": {
        "id": "oAjcmjgl8oQu"
      },
      "execution_count": null,
      "outputs": []
    },
    {
      "cell_type": "markdown",
      "source": [
        "# Define the Model"
      ],
      "metadata": {
        "id": "5RMnAIQpFYng"
      }
    },
    {
      "cell_type": "code",
      "source": [
        "# Load the MobileNetV2 base model without the top layers\n",
        "base_model = tf.keras.applications.MobileNetV2(input_shape = [128,128,3], include_top = False)\n",
        "\n",
        "# Define the layer names for the encoder part of U-Net\n",
        "layer_names = [\n",
        "    'block_1_expand_relu',  # 64x64\n",
        "    'block_3_expand_relu',  # 32x32\n",
        "    'block_6_expand_relu',  # 16x16\n",
        "    'block_13_expand_relu', # 8x8\n",
        "    'block_16_expand_relu', # 4x4\n",
        "]\n",
        "\n",
        "# Extract the output of the defined layers from the base model\n",
        "base_model_outputs = [ base_model.get_layer(name).output for name in layer_names]\n",
        "\n",
        "# Create the encoder part of U-Net\n",
        "down_stack = tf.keras.Model(inputs = base_model.input, outputs = base_model_outputs)\n",
        "\n",
        "down_stack.trainable = False # Freeze the encoder weights"
      ],
      "metadata": {
        "id": "DVzc6m70Fc8s"
      },
      "execution_count": null,
      "outputs": []
    },
    {
      "cell_type": "code",
      "source": [
        "# Define the upsampling layers for the decoder part of U-Net\n",
        "up_stack = [\n",
        "    pix2pix.upsample(512,3), # 4x4 --> 8x8\n",
        "    pix2pix.upsample(256,3), # 8x8--> 16x16\n",
        "    pix2pix.upsample(128,3), # 16x16--> 32x32\n",
        "    pix2pix.upsample(64,3), # 32x32--> 64x64\n",
        "]"
      ],
      "metadata": {
        "id": "X5cVLx-CErrN"
      },
      "execution_count": null,
      "outputs": []
    },
    {
      "cell_type": "code",
      "source": [
        "# Define the complete U-Net model\n",
        "def unet_model(output_channels:int):\n",
        "  inputs = tf.keras.layers.Input(shape = [128,128,3])\n",
        "\n",
        "  skips = down_stack(inputs)\n",
        "  x = skips[-1]\n",
        "  skips = reversed(skips[:-1])\n",
        "\n",
        "  for up,skip in zip(up_stack, skips):\n",
        "    x = up(x)\n",
        "    concat = tf.keras.layers.Concatenate()\n",
        "    x = concat([x,skip])\n",
        "\n",
        "  last = tf.keras.layers.Conv2DTranspose(\n",
        "      filters =output_channels, kernel_size = 3, strides = 2,padding = 'same'\n",
        "  ) #64x64 -> 128x128\n",
        "  x = last(x)\n",
        "  return tf.keras.Model(inputs = inputs, outputs = x)"
      ],
      "metadata": {
        "id": "TchGDCYkFDx5"
      },
      "execution_count": null,
      "outputs": []
    },
    {
      "cell_type": "markdown",
      "source": [
        "# Train the model"
      ],
      "metadata": {
        "id": "sUi8JoNHWFIo"
      }
    },
    {
      "cell_type": "code",
      "source": [
        "# Define the number of output classes\n",
        "OUTPUT_CLASSES = 3  # Assuming 3 classes for segmentation\n",
        "model = unet_model(output_channels=OUTPUT_CLASSES) # Create the U-Net model\n",
        "\n",
        "# Compile the model\n",
        "model.compile(optimizer='adam',\n",
        "              loss=tf.keras.losses.SparseCategoricalCrossentropy(from_logits=True),\n",
        "              metrics=['accuracy'])\n"
      ],
      "metadata": {
        "id": "qV6uOFwnWD9W"
      },
      "execution_count": null,
      "outputs": []
    },
    {
      "cell_type": "code",
      "source": [
        "# Plot the model architecture\n",
        "tf.keras.utils.plot_model(model,show_shapes = True, expand_nested = True,dpi = 64)"
      ],
      "metadata": {
        "id": "HAYwGKDoW9sA"
      },
      "execution_count": null,
      "outputs": []
    },
    {
      "cell_type": "code",
      "source": [
        "# Function to create a mask from the predicted mask\n",
        "def create_mask(pred_mask):\n",
        "  pred_mask = tf.math.argmax(pred_mask, axis = -1)\n",
        "  return pred_mask[..., tf.newaxis][0]"
      ],
      "metadata": {
        "id": "erVUvBhsJrQE"
      },
      "execution_count": null,
      "outputs": []
    },
    {
      "cell_type": "code",
      "source": [
        "# Function to display predictions\n",
        "def show_predictions(dataset= None, num=1):\n",
        "  if dataset:\n",
        "    for image, mask in dataset.take(num):\n",
        "      pred_mask = model.predict(image)\n",
        "      display(display_list=[image[0], mask[0], create_mask(pred_mask)])\n",
        "  else:\n",
        "    display([sample_image,sample_mask,\n",
        "             create_mask(model.predict(sample_image[tf.newaxis,...]))])\n"
      ],
      "metadata": {
        "id": "07x9nbLwZmbA"
      },
      "execution_count": null,
      "outputs": []
    },
    {
      "cell_type": "code",
      "source": [
        "show_predictions() # Display sample predictions before training"
      ],
      "metadata": {
        "id": "avzXG7NCN_mE"
      },
      "execution_count": null,
      "outputs": []
    },
    {
      "cell_type": "code",
      "source": [
        "# Calculate the number of training steps per epoch\n",
        "TRAIN_LENGTH = info.splits['train'].num_examples\n",
        "STEPS_PER_EPOCH = TRAIN_LENGTH // BATCH_SIZE\n",
        "\n",
        "# Define the number of epochs and validation steps\n",
        "EPOCHS = 20\n",
        "VAL_SUBSPLITS = 5\n",
        "VALIDATION_STEPS = info.splits['test'].num_examples // BATCH_SIZE // VAL_SUBSPLITS\n",
        "from IPython.display import clear_output"
      ],
      "metadata": {
        "id": "3Mwli0foqlJU"
      },
      "execution_count": null,
      "outputs": []
    },
    {
      "cell_type": "code",
      "source": [
        "# Custom callback to display predictions after each epoch\n",
        "class DisplayCallback(tf.keras.callbacks.Callback):\n",
        "  def on_epoch_end(self, epoch, logs =None):\n",
        "    clear_output(wait=True)\n",
        "    show_predictions()\n",
        "    print('\\nSample Prediction after epoch {}\\n'.format(epoch+1))"
      ],
      "metadata": {
        "id": "0yj8TLTSK-bM"
      },
      "execution_count": null,
      "outputs": []
    },
    {
      "cell_type": "code",
      "source": [
        "# Train the model\n",
        "model_history = model.fit(train_batches, epochs = EPOCHS,\n",
        "                          steps_per_epoch = STEPS_PER_EPOCH,\n",
        "                          validation_steps = VALIDATION_STEPS,\n",
        "                          validation_data = test_batches,\n",
        "                          callbacks = [DisplayCallback()]\n",
        "\n",
        ")"
      ],
      "metadata": {
        "id": "UIbIefPVkvie"
      },
      "execution_count": null,
      "outputs": []
    },
    {
      "cell_type": "markdown",
      "source": [
        "# Evaluate the model"
      ],
      "metadata": {
        "id": "7xSLf0pgOz_b"
      }
    },
    {
      "cell_type": "code",
      "source": [
        "# Extract the training and validation loss values\n",
        "loss = model_history.history['loss']\n",
        "val_loss = model_history.history['val_loss']\n",
        "\n",
        "# Plot the training and validation loss\n",
        "plt.figure()\n",
        "plt.plot(model_history.epoch, loss, 'r', label = \"Training Loss\")\n",
        "plt.plot(model_history.epoch, val_loss, 'bo', label = \"Validation Loss\")\n",
        "plt.xlabel('Epoch')\n",
        "plt.ylabel('Loss Value')\n",
        "plt.ylim([0,1])\n",
        "plt.legend()\n",
        "plt.show()"
      ],
      "metadata": {
        "id": "HLbgN_eNO2f-"
      },
      "execution_count": null,
      "outputs": []
    },
    {
      "cell_type": "markdown",
      "source": [
        "# Make Predictions"
      ],
      "metadata": {
        "id": "SPOO8sNrQCH1"
      }
    },
    {
      "cell_type": "code",
      "source": [
        "show_predictions(dataset=test_batches,num=3) # Display predictions on the test dataset"
      ],
      "metadata": {
        "id": "o_lu9uEjQA5v"
      },
      "execution_count": null,
      "outputs": []
    }
  ]
}